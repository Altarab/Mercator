{
 "cells": [
  {
   "cell_type": "code",
   "execution_count": 15,
   "metadata": {},
   "outputs": [],
   "source": [
    "import pandas as pd\n",
    "import numpy as np\n",
    "import os\n",
    "import sys\n",
    "\n",
    "df = pd.read_csv('ore_italy.csv', delimiter = '\\t',encoding='utf-8')\n",
    "#print(df)\n",
    "\n",
    "sample_id_counter = 0\n",
    "analysis_id = -1\n",
    "analysis_counter = -1\n",
    "location_id = -1\n",
    "location_counter = -1\n",
    "site_name = []\n",
    "site_name_with_id = []\n",
    "analysis_group = []\n",
    "analysis_group_with_id = []\n",
    "#df = df.head(100)\n",
    "\n",
    "f=open('insert.sql',\"w+\",encoding='utf8')\n",
    "df = df.reset_index()  # make sure indexes pair with number of rows\n",
    "\n",
    "for index, row in df.iterrows():\n",
    "    if row['site_name'] not in site_name :\n",
    "        site_name.append(row['site_name'])\n",
    "        location_counter +=1\n",
    "        location_id = location_counter\n",
    "        site_name_with_id.append(location_counter)\n",
    "        site_name_with_id.append(row['site_name'])\n",
    "        f.write('INSERT INTO public.mctor_locations (id_location,level_value)\\nVALUES (\\''+str(location_id)+'\\',\\''+row['site_name']+'\\');\\n')\n",
    "        f.write('INSERT INTO service.mctor_loc_political (town,region,country,continent)\\nVALUES (\\''+row['town']+'\\',\\''+row['region_province']+'\\',\\''+row['country_state']+'\\',\\'Europe\\');\\n')\n",
    "\n",
    "    else :   \n",
    "        for k in range(1,len(site_name_with_id)) :\n",
    "            if row['site_name'] == site_name_with_id[k] :\n",
    "                location_id = site_name_with_id[k-1]\n",
    "    \n",
    "    if row['collected_by'] not in analysis_group :\n",
    "        analysis_group.append(row['collected_by'])\n",
    "        analysis_counter +=1\n",
    "        analysis_id = analysis_counter\n",
    "        analysis_group_with_id.append(analysis_counter)\n",
    "        analysis_group_with_id.append(row['collected_by'])\n",
    "        f.write('INSERT INTO public.mctor_an_meta (id_analysis, team)\\nVALUES (\\''+str(analysis_id)+'\\',\\''+row['collected_by']+'\\');\\n')\n",
    "    else :   \n",
    "        for k in range(1,len(analysis_group_with_id)) :\n",
    "            if row['collected_by'] == analysis_group_with_id[k] :\n",
    "                analysis_id = analysis_group_with_id[k-1]\n",
    "                \n",
    "    f.write('INSERT INTO public.mctor_samples (id_sample, id_location, type)\\nVALUES (\\''+str(sample_id_counter)+'\\',\\''+str(location_id)+'\\',\\'O\\');\\n')\n",
    "    f.write('INSERT INTO public.mctor_an_pb_isotopes (id_sample,id_analysis,pb_iso_208_206,pb_iso_207_206,pb_iso_206_204)\\nVALUES (\\''+str(sample_id_counter)+'\\',\\''+str(analysis_id)+'\\',\\''+str(round(row['208Pb/206Pb'],7))+'\\',\\''+str(round(row['207Pb/206Pb'],7))+'\\',\\''+str(round(row['206Pb/204Pb'],7))+'\\');\\n')\n",
    "    sample_id_counter+=1\n",
    "\n",
    "f.close()"
   ]
  },
  {
   "cell_type": "code",
   "execution_count": null,
   "metadata": {},
   "outputs": [],
   "source": []
  }
 ],
 "metadata": {
  "kernelspec": {
   "display_name": "Python 3",
   "language": "python",
   "name": "python3"
  },
  "language_info": {
   "codemirror_mode": {
    "name": "ipython",
    "version": 3
   },
   "file_extension": ".py",
   "mimetype": "text/x-python",
   "name": "python",
   "nbconvert_exporter": "python",
   "pygments_lexer": "ipython3",
   "version": "3.7.3"
  }
 },
 "nbformat": 4,
 "nbformat_minor": 2
}
